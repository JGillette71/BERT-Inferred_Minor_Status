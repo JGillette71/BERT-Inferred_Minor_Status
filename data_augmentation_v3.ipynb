{
  "nbformat": 4,
  "nbformat_minor": 0,
  "metadata": {
    "colab": {
      "name": "data_augmentation_v3.ipynb",
      "provenance": [],
      "toc_visible": true,
      "mount_file_id": "1v1NAwQxtFtKIsz-4dOsgJNiMlu45Mwxa",
      "authorship_tag": "ABX9TyONqIfzhqoROx/uzhdYUJaX",
      "include_colab_link": true
    },
    "kernelspec": {
      "name": "python3",
      "display_name": "Python 3"
    },
    "language_info": {
      "name": "python"
    }
  },
  "cells": [
    {
      "cell_type": "markdown",
      "metadata": {
        "id": "view-in-github",
        "colab_type": "text"
      },
      "source": [
        "<a href=\"https://colab.research.google.com/github/JGillette71/BERT-Inferred_Minor_Status/blob/main/data_augmentation_v3.ipynb\" target=\"_parent\"><img src=\"https://colab.research.google.com/assets/colab-badge.svg\" alt=\"Open In Colab\"/></a>"
      ]
    },
    {
      "cell_type": "markdown",
      "source": [
        "### Data Prep"
      ],
      "metadata": {
        "id": "Nm39MDCV16qm"
      }
    },
    {
      "cell_type": "code",
      "execution_count": null,
      "metadata": {
        "id": "RJpuW4Vk1Ng-"
      },
      "outputs": [],
      "source": [
        "import pandas as pd\n",
        "import numpy as np"
      ]
    },
    {
      "cell_type": "code",
      "source": [
        "# Read fine tuning data \n",
        "part1 = pd.read_csv('/content/drive/MyDrive/Grad School Projects /ner_data/Annotations/IOB_edited_part_1.txt',sep='\\t')\n",
        "part2 = pd.read_csv('/content/drive/MyDrive/Grad School Projects /ner_data/Annotations/IOB_edited_part_2.txt',sep='\\t')\n",
        "\n",
        "# concat data partitions \n",
        "word_data = pd.concat([part1, part2], ignore_index=True)\n",
        "word_data.info()"
      ],
      "metadata": {
        "colab": {
          "base_uri": "https://localhost:8080/"
        },
        "id": "bx5Y3LP71Xod",
        "outputId": "fd266b19-a130-4a99-c46f-38300977d611"
      },
      "execution_count": null,
      "outputs": [
        {
          "output_type": "stream",
          "name": "stdout",
          "text": [
            "<class 'pandas.core.frame.DataFrame'>\n",
            "RangeIndex: 507517 entries, 0 to 507516\n",
            "Data columns (total 3 columns):\n",
            " #   Column    Non-Null Count   Dtype  \n",
            "---  ------    --------------   -----  \n",
            " 0   sentence  0 non-null       float64\n",
            " 1   token     501905 non-null  object \n",
            " 2   label     501907 non-null  object \n",
            "dtypes: float64(1), object(2)\n",
            "memory usage: 11.6+ MB\n"
          ]
        }
      ]
    },
    {
      "cell_type": "code",
      "source": [
        "# how many stop tokens / stories? \n",
        "stops_removed = len(word_data[(word_data['token'].str.contains('stop-x')) & (word_data['label'].str.contains('stop-x'))])\n",
        "print(f'{stops_removed} stop tokens in data')\n",
        "\n",
        "# how null values? \n",
        "empty_rows = word_data.isna().values.sum()\n",
        "print(f'{empty_rows} empty values in data')"
      ],
      "metadata": {
        "colab": {
          "base_uri": "https://localhost:8080/"
        },
        "id": "J9P17mSu2Fmk",
        "outputId": "b92548d7-fcbc-42cf-8417-80a5caa6d898"
      },
      "execution_count": null,
      "outputs": [
        {
          "output_type": "stream",
          "name": "stdout",
          "text": [
            "4224 stop tokens in data\n",
            "518739 empty values in data\n"
          ]
        }
      ]
    },
    {
      "cell_type": "code",
      "source": [
        "# cast sentence label column as object to facilitate str fill \n",
        "word_data['sentence'] = word_data['sentence'].astype(object)\n",
        "\n",
        "# set first sentence label \n",
        "word_data.at[0, 'sentence'] = ('sentence 0')\n",
        "\n",
        "# label sentence where stop value \n",
        "num = 0 \n",
        "for i in range(len(word_data)): \n",
        "  if (word_data.at[i, 'token'] == 'stop-x') & (word_data.at[i, 'label'] == 'stop-x'):\n",
        "    num += 1\n",
        "    word_data.at[i, 'sentence'] = (f'sentence {num}')\n",
        "\n",
        "# check known location for sentence number addition \n",
        "print(word_data.iloc[65])"
      ],
      "metadata": {
        "colab": {
          "base_uri": "https://localhost:8080/"
        },
        "id": "pWaW_XfG2HPe",
        "outputId": "9a8298bb-b39d-4ed4-ed2d-751bc0e46e82"
      },
      "execution_count": null,
      "outputs": [
        {
          "output_type": "stream",
          "name": "stdout",
          "text": [
            "sentence    sentence 1\n",
            "token           stop-x\n",
            "label           stop-x\n",
            "Name: 65, dtype: object\n"
          ]
        }
      ]
    },
    {
      "cell_type": "code",
      "source": [
        "# forward fill all the sentece labels \n",
        "word_data['sentence'].ffill(inplace=True)\n",
        "word_data.tail()"
      ],
      "metadata": {
        "colab": {
          "base_uri": "https://localhost:8080/",
          "height": 206
        },
        "id": "xgSqgIQw2JdD",
        "outputId": "0a61960b-7a28-4eb3-a553-3aa04efdd1c4"
      },
      "execution_count": null,
      "outputs": [
        {
          "output_type": "execute_result",
          "data": {
            "text/plain": [
              "             sentence     token   label\n",
              "507512  sentence 4222        in       O\n",
              "507513  sentence 4222  positive       O\n",
              "507514  sentence 4222       way       O\n",
              "507515  sentence 4222         .       O\n",
              "507516  sentence 4223    stop-x  stop-x"
            ],
            "text/html": [
              "\n",
              "  <div id=\"df-09156587-53e2-40df-8505-f2d5da699d77\">\n",
              "    <div class=\"colab-df-container\">\n",
              "      <div>\n",
              "<style scoped>\n",
              "    .dataframe tbody tr th:only-of-type {\n",
              "        vertical-align: middle;\n",
              "    }\n",
              "\n",
              "    .dataframe tbody tr th {\n",
              "        vertical-align: top;\n",
              "    }\n",
              "\n",
              "    .dataframe thead th {\n",
              "        text-align: right;\n",
              "    }\n",
              "</style>\n",
              "<table border=\"1\" class=\"dataframe\">\n",
              "  <thead>\n",
              "    <tr style=\"text-align: right;\">\n",
              "      <th></th>\n",
              "      <th>sentence</th>\n",
              "      <th>token</th>\n",
              "      <th>label</th>\n",
              "    </tr>\n",
              "  </thead>\n",
              "  <tbody>\n",
              "    <tr>\n",
              "      <th>507512</th>\n",
              "      <td>sentence 4222</td>\n",
              "      <td>in</td>\n",
              "      <td>O</td>\n",
              "    </tr>\n",
              "    <tr>\n",
              "      <th>507513</th>\n",
              "      <td>sentence 4222</td>\n",
              "      <td>positive</td>\n",
              "      <td>O</td>\n",
              "    </tr>\n",
              "    <tr>\n",
              "      <th>507514</th>\n",
              "      <td>sentence 4222</td>\n",
              "      <td>way</td>\n",
              "      <td>O</td>\n",
              "    </tr>\n",
              "    <tr>\n",
              "      <th>507515</th>\n",
              "      <td>sentence 4222</td>\n",
              "      <td>.</td>\n",
              "      <td>O</td>\n",
              "    </tr>\n",
              "    <tr>\n",
              "      <th>507516</th>\n",
              "      <td>sentence 4223</td>\n",
              "      <td>stop-x</td>\n",
              "      <td>stop-x</td>\n",
              "    </tr>\n",
              "  </tbody>\n",
              "</table>\n",
              "</div>\n",
              "      <button class=\"colab-df-convert\" onclick=\"convertToInteractive('df-09156587-53e2-40df-8505-f2d5da699d77')\"\n",
              "              title=\"Convert this dataframe to an interactive table.\"\n",
              "              style=\"display:none;\">\n",
              "        \n",
              "  <svg xmlns=\"http://www.w3.org/2000/svg\" height=\"24px\"viewBox=\"0 0 24 24\"\n",
              "       width=\"24px\">\n",
              "    <path d=\"M0 0h24v24H0V0z\" fill=\"none\"/>\n",
              "    <path d=\"M18.56 5.44l.94 2.06.94-2.06 2.06-.94-2.06-.94-.94-2.06-.94 2.06-2.06.94zm-11 1L8.5 8.5l.94-2.06 2.06-.94-2.06-.94L8.5 2.5l-.94 2.06-2.06.94zm10 10l.94 2.06.94-2.06 2.06-.94-2.06-.94-.94-2.06-.94 2.06-2.06.94z\"/><path d=\"M17.41 7.96l-1.37-1.37c-.4-.4-.92-.59-1.43-.59-.52 0-1.04.2-1.43.59L10.3 9.45l-7.72 7.72c-.78.78-.78 2.05 0 2.83L4 21.41c.39.39.9.59 1.41.59.51 0 1.02-.2 1.41-.59l7.78-7.78 2.81-2.81c.8-.78.8-2.07 0-2.86zM5.41 20L4 18.59l7.72-7.72 1.47 1.35L5.41 20z\"/>\n",
              "  </svg>\n",
              "      </button>\n",
              "      \n",
              "  <style>\n",
              "    .colab-df-container {\n",
              "      display:flex;\n",
              "      flex-wrap:wrap;\n",
              "      gap: 12px;\n",
              "    }\n",
              "\n",
              "    .colab-df-convert {\n",
              "      background-color: #E8F0FE;\n",
              "      border: none;\n",
              "      border-radius: 50%;\n",
              "      cursor: pointer;\n",
              "      display: none;\n",
              "      fill: #1967D2;\n",
              "      height: 32px;\n",
              "      padding: 0 0 0 0;\n",
              "      width: 32px;\n",
              "    }\n",
              "\n",
              "    .colab-df-convert:hover {\n",
              "      background-color: #E2EBFA;\n",
              "      box-shadow: 0px 1px 2px rgba(60, 64, 67, 0.3), 0px 1px 3px 1px rgba(60, 64, 67, 0.15);\n",
              "      fill: #174EA6;\n",
              "    }\n",
              "\n",
              "    [theme=dark] .colab-df-convert {\n",
              "      background-color: #3B4455;\n",
              "      fill: #D2E3FC;\n",
              "    }\n",
              "\n",
              "    [theme=dark] .colab-df-convert:hover {\n",
              "      background-color: #434B5C;\n",
              "      box-shadow: 0px 1px 3px 1px rgba(0, 0, 0, 0.15);\n",
              "      filter: drop-shadow(0px 1px 2px rgba(0, 0, 0, 0.3));\n",
              "      fill: #FFFFFF;\n",
              "    }\n",
              "  </style>\n",
              "\n",
              "      <script>\n",
              "        const buttonEl =\n",
              "          document.querySelector('#df-09156587-53e2-40df-8505-f2d5da699d77 button.colab-df-convert');\n",
              "        buttonEl.style.display =\n",
              "          google.colab.kernel.accessAllowed ? 'block' : 'none';\n",
              "\n",
              "        async function convertToInteractive(key) {\n",
              "          const element = document.querySelector('#df-09156587-53e2-40df-8505-f2d5da699d77');\n",
              "          const dataTable =\n",
              "            await google.colab.kernel.invokeFunction('convertToInteractive',\n",
              "                                                     [key], {});\n",
              "          if (!dataTable) return;\n",
              "\n",
              "          const docLinkHtml = 'Like what you see? Visit the ' +\n",
              "            '<a target=\"_blank\" href=https://colab.research.google.com/notebooks/data_table.ipynb>data table notebook</a>'\n",
              "            + ' to learn more about interactive tables.';\n",
              "          element.innerHTML = '';\n",
              "          dataTable['output_type'] = 'display_data';\n",
              "          await google.colab.output.renderOutput(dataTable, element);\n",
              "          const docLink = document.createElement('div');\n",
              "          docLink.innerHTML = docLinkHtml;\n",
              "          element.appendChild(docLink);\n",
              "        }\n",
              "      </script>\n",
              "    </div>\n",
              "  </div>\n",
              "  "
            ]
          },
          "metadata": {},
          "execution_count": 326
        }
      ]
    },
    {
      "cell_type": "code",
      "source": [
        "# drop stop values \n",
        "word_data = word_data[(word_data['token'].str.contains('stop-x')) & (word_data['label'].str.contains('stop-x'))== False]\n",
        "\n",
        "# drop empty values\n",
        "word_data.dropna(axis=0, how='any', inplace=True)\n",
        "\n",
        "# reset index\n",
        "word_data.reset_index(drop=True, inplace=True)\n",
        "word_data.info()"
      ],
      "metadata": {
        "colab": {
          "base_uri": "https://localhost:8080/"
        },
        "id": "wXTTOyKJ2mHS",
        "outputId": "c2a5f877-6a5a-4be0-b1e4-daa040f3e3fa"
      },
      "execution_count": null,
      "outputs": [
        {
          "output_type": "stream",
          "name": "stdout",
          "text": [
            "<class 'pandas.core.frame.DataFrame'>\n",
            "RangeIndex: 497680 entries, 0 to 497679\n",
            "Data columns (total 3 columns):\n",
            " #   Column    Non-Null Count   Dtype \n",
            "---  ------    --------------   ----- \n",
            " 0   sentence  497680 non-null  object\n",
            " 1   token     497680 non-null  object\n",
            " 2   label     497680 non-null  object\n",
            "dtypes: object(3)\n",
            "memory usage: 11.4+ MB\n"
          ]
        },
        {
          "output_type": "stream",
          "name": "stderr",
          "text": [
            "/usr/local/lib/python3.7/dist-packages/pandas/util/_decorators.py:311: SettingWithCopyWarning: \n",
            "A value is trying to be set on a copy of a slice from a DataFrame\n",
            "\n",
            "See the caveats in the documentation: https://pandas.pydata.org/pandas-docs/stable/user_guide/indexing.html#returning-a-view-versus-a-copy\n",
            "  return func(*args, **kwargs)\n"
          ]
        }
      ]
    },
    {
      "cell_type": "code",
      "source": [
        "# how many stop tokens / stories? \n",
        "stops_removed = len(word_data[(word_data['token'].str.contains('stop-x')) & (word_data['label'].str.contains('stop-x'))])\n",
        "print(f'{stops_removed} stop tokens in data')\n",
        "\n",
        "# how null values? \n",
        "empty_rows = word_data.isna().values.sum()\n",
        "print(f'{empty_rows} empty values in data')"
      ],
      "metadata": {
        "colab": {
          "base_uri": "https://localhost:8080/"
        },
        "id": "71zmYmeT2mpl",
        "outputId": "0becf374-d8fe-43ea-85ea-7e988e58ed9f"
      },
      "execution_count": null,
      "outputs": [
        {
          "output_type": "stream",
          "name": "stdout",
          "text": [
            "0 stop tokens in data\n",
            "0 empty values in data\n"
          ]
        }
      ]
    },
    {
      "cell_type": "code",
      "source": [
        "# check for anomalous tokens w/ str length\n",
        "# a bad delimeter can cause strings to bunch up\n",
        "word_data['token_Length'] = word_data['token'].map(len)\n",
        "\n",
        "# summary of lengths and 10 largest\n",
        "print(word_data['token_Length'].describe())\n",
        "print(word_data.nlargest(10, 'token_Length'))\n",
        "\n",
        "# ditch the token length column after use\n",
        "word_data.drop(labels='token_Length', axis='columns', inplace= True)"
      ],
      "metadata": {
        "colab": {
          "base_uri": "https://localhost:8080/"
        },
        "id": "q-GWGjxv2ti_",
        "outputId": "f971ff1e-0e1e-48ab-cf54-85c0694876df"
      },
      "execution_count": null,
      "outputs": [
        {
          "output_type": "stream",
          "name": "stdout",
          "text": [
            "count    497680.000000\n",
            "mean          4.275643\n",
            "std           2.490076\n",
            "min           1.000000\n",
            "25%           2.000000\n",
            "50%           4.000000\n",
            "75%           6.000000\n",
            "max          19.000000\n",
            "Name: token_Length, dtype: float64\n",
            "             sentence                token  label  token_Length\n",
            "415424  sentence 3444  interdenominational      O            19\n",
            "104093   sentence 284   operationalization      O            18\n",
            "276374  sentence 1898   operationalization      O            18\n",
            "33946    sentence 117    telecommunication      O            17\n",
            "33951    sentence 117    Telecommunication  I-ORG            17\n",
            "123477   sentence 522    telecommunication      O            17\n",
            "235882  sentence 1546    misunderstandings      O            17\n",
            "313556  sentence 2340    telecommunication      O            17\n",
            "320482  sentence 2441    Commercialisation  I-ORG            17\n",
            "339910  sentence 2658    counterproductive      O            17\n"
          ]
        }
      ]
    },
    {
      "cell_type": "markdown",
      "source": [
        "Now dropping Organizations, Other, and Locations..."
      ],
      "metadata": {
        "id": "o8U-dXn5IwBy"
      }
    },
    {
      "cell_type": "markdown",
      "source": [
        "### Minority Class Over-sampling \n",
        "To address significant calss imbalance, train_df will be sampled multiple times and subjected to entity substitution in order to augment. "
      ],
      "metadata": {
        "id": "iOhM_U8O4aaA"
      }
    },
    {
      "cell_type": "code",
      "source": [
        "# check initial class imbalance \n",
        "word_data['label'].value_counts()"
      ],
      "metadata": {
        "colab": {
          "base_uri": "https://localhost:8080/"
        },
        "id": "l-t79o2y5DUY",
        "outputId": "da6d0afa-6298-4e8c-ccd2-670378ef63b1"
      },
      "execution_count": null,
      "outputs": [
        {
          "output_type": "execute_result",
          "data": {
            "text/plain": [
              "O         456783\n",
              "I-ORG      13008\n",
              "B-ORG       7674\n",
              "B-LOC       7319\n",
              "B-ADLT      4910\n",
              "I-LOC       3187\n",
              "I-ADLT      2040\n",
              "B-MINR      1549\n",
              "I-OTHR       608\n",
              "B-OTHR       384\n",
              "I-MINR       218\n",
              "Name: label, dtype: int64"
            ]
          },
          "metadata": {},
          "execution_count": 330
        }
      ]
    },
    {
      "cell_type": "markdown",
      "source": [
        "O 456,783 \\\n",
        "org 7,674 + 13,008 = 20,682 \\\n",
        "loc 7,319 + 3,187 = 10,506 \\\n",
        "adlt 4,910 + 2,040 = 6,950 \\\n",
        "minr 1,549 + 218 = 1,767 \\\n",
        "othr 384 + 608 = 992 \\"
      ],
      "metadata": {
        "id": "NkSo57YBVYbH"
      }
    },
    {
      "cell_type": "code",
      "source": [
        "# filter to sentences containing B-MINR \n",
        "# accompanying entities provide relative balance\n",
        "\n",
        "# sample all instances of minors\n",
        "minr_df1 = word_data[word_data['label'] == 'B-MINR'].copy()\n",
        "print(f'Shape of B-MINR dataframe: {minr_df1.shape}')\n",
        "\n",
        "# identify coresponding sentence numbers and cast to list\n",
        "minr_df1.drop_duplicates(subset='sentence', inplace= True, ignore_index= True)\n",
        "minr_sentences = minr_df1['sentence'].to_list()\n",
        "print(f'sentences containing B-MINR: {len(minr_sentences)}')\n",
        "\n",
        "# drop all sentences that do not contain B-MINR \n",
        "word_data = word_data[word_data['sentence'].isin(minr_sentences)]\n",
        "word_data.reset_index(drop=True, inplace=True)\n",
        "word_data.info()"
      ],
      "metadata": {
        "colab": {
          "base_uri": "https://localhost:8080/"
        },
        "id": "TClD6oVB5NWp",
        "outputId": "56741a69-39e2-456a-9826-b37302c67e5c"
      },
      "execution_count": null,
      "outputs": [
        {
          "output_type": "stream",
          "name": "stdout",
          "text": [
            "Shape of B-MINR dataframe: (1549, 3)\n",
            "sentences containing B-MINR: 511\n",
            "<class 'pandas.core.frame.DataFrame'>\n",
            "RangeIndex: 119911 entries, 0 to 119910\n",
            "Data columns (total 3 columns):\n",
            " #   Column    Non-Null Count   Dtype \n",
            "---  ------    --------------   ----- \n",
            " 0   sentence  119911 non-null  object\n",
            " 1   token     119911 non-null  object\n",
            " 2   label     119911 non-null  object\n",
            "dtypes: object(3)\n",
            "memory usage: 2.7+ MB\n"
          ]
        }
      ]
    },
    {
      "cell_type": "code",
      "source": [
        "# check on resulting balance\n",
        "word_data['label'].value_counts()"
      ],
      "metadata": {
        "colab": {
          "base_uri": "https://localhost:8080/"
        },
        "id": "J-Zgc_8L7Pt9",
        "outputId": "c7959379-e1b9-46c7-9a36-a277b2414584"
      },
      "execution_count": null,
      "outputs": [
        {
          "output_type": "execute_result",
          "data": {
            "text/plain": [
              "O         111112\n",
              "I-ORG       2202\n",
              "B-MINR      1549\n",
              "B-ORG       1323\n",
              "B-LOC       1210\n",
              "B-ADLT      1124\n",
              "I-LOC        553\n",
              "I-ADLT       367\n",
              "I-MINR       218\n",
              "I-OTHR       158\n",
              "B-OTHR        95\n",
              "Name: label, dtype: int64"
            ]
          },
          "metadata": {},
          "execution_count": 332
        }
      ]
    },
    {
      "cell_type": "markdown",
      "source": [
        "minr 1,549 + 218 = 1,767 \\\n",
        "adlt 1,124 + 367 = 1,491 \\\n",
        "\n",
        "Finer balance, but very limited data. Must augment multiple copies. "
      ],
      "metadata": {
        "id": "Y3afjSFh78Qq"
      }
    },
    {
      "cell_type": "markdown",
      "source": [
        "### Training / Testing Split "
      ],
      "metadata": {
        "id": "6ofetk22un-8"
      }
    },
    {
      "cell_type": "code",
      "source": [
        "# how many unique sentences \n",
        "print(f'unique sentences containing minors: {word_data.sentence.nunique()}')\n",
        "\n",
        "# training / testing split\n",
        "train_size = 0.8\n",
        "minr_sentences = pd.Series(minr_sentences)\n",
        "train_sentences = minr_sentences.sample(frac=train_size,random_state=200)\n",
        "train_df = word_data[word_data['sentence'].isin(train_sentences)]\n",
        "train_df.reset_index(drop=True, inplace=True)\n",
        "test_df = word_data[~word_data['sentence'].isin(train_sentences)]\n",
        "test_df.reset_index(drop=True, inplace=True)\n",
        "\n",
        "print(\"FULL Dataset: {}\".format(word_data.shape))\n",
        "print(\"TRAIN Dataset: {}\".format(train_df.shape))\n",
        "print(\"TEST Dataset: {}\".format(test_df.shape))"
      ],
      "metadata": {
        "colab": {
          "base_uri": "https://localhost:8080/"
        },
        "id": "RsQybcmdJT60",
        "outputId": "fd0ed96c-9565-400f-cd85-195153bf1a4c"
      },
      "execution_count": null,
      "outputs": [
        {
          "output_type": "stream",
          "name": "stdout",
          "text": [
            "unique sentences containing minors: 511\n",
            "FULL Dataset: (119911, 3)\n",
            "TRAIN Dataset: (98183, 3)\n",
            "TEST Dataset: (21728, 3)\n"
          ]
        }
      ]
    },
    {
      "cell_type": "code",
      "source": [
        "# unique sentences\n",
        "print(f'unique sentences in training set: {train_df.sentence.nunique()}')\n",
        "print(f'unique sentences in testing set: {test_df.sentence.nunique()}')"
      ],
      "metadata": {
        "colab": {
          "base_uri": "https://localhost:8080/"
        },
        "id": "x4r_lQS-Tzfh",
        "outputId": "fe511a0f-a4d3-4785-e0cd-31572f692919"
      },
      "execution_count": null,
      "outputs": [
        {
          "output_type": "stream",
          "name": "stdout",
          "text": [
            "unique sentences in training set: 409\n",
            "unique sentences in testing set: 102\n"
          ]
        }
      ]
    },
    {
      "cell_type": "code",
      "source": [
        " # 5x copy of datasets w/ seperate training and testing\n",
        "\n",
        "train_df2 = train_df.copy()\n",
        "train_df3 = train_df.copy()\n",
        "train_df4 = train_df.copy()\n",
        "train_df5 = train_df.copy()\n",
        "\n",
        "test_df2 = test_df.copy()\n",
        "test_df3 = test_df.copy()\n",
        "test_df4 = test_df.copy()\n",
        "test_df5 = test_df.copy()"
      ],
      "metadata": {
        "id": "liiTtgru7tfc"
      },
      "execution_count": null,
      "outputs": []
    },
    {
      "cell_type": "markdown",
      "source": [
        "### Data Augmentation\n",
        "One-to-one substitute entities w/ randomly generated names. \n",
        "\n",
        "Purpose of this method is to balance and expand available training data while maintaining token-lable alignment. "
      ],
      "metadata": {
        "id": "EwPi-Uuw893G"
      }
    },
    {
      "cell_type": "code",
      "source": [
        "pip install faker"
      ],
      "metadata": {
        "colab": {
          "base_uri": "https://localhost:8080/"
        },
        "id": "W8IVIx0T94-G",
        "outputId": "ee91ef63-ce85-4fb0-b7f3-f068fc8c08db"
      },
      "execution_count": null,
      "outputs": [
        {
          "output_type": "stream",
          "name": "stdout",
          "text": [
            "Requirement already satisfied: faker in /usr/local/lib/python3.7/dist-packages (13.7.0)\n",
            "Requirement already satisfied: typing-extensions>=3.10.0.2 in /usr/local/lib/python3.7/dist-packages (from faker) (4.2.0)\n",
            "Requirement already satisfied: python-dateutil>=2.4 in /usr/local/lib/python3.7/dist-packages (from faker) (2.8.2)\n",
            "Requirement already satisfied: six>=1.5 in /usr/local/lib/python3.7/dist-packages (from python-dateutil>=2.4->faker) (1.15.0)\n"
          ]
        }
      ]
    },
    {
      "cell_type": "code",
      "source": [
        "# feed all tagged words through substitution pipeline \n",
        "from faker import Faker\n",
        "\n",
        "def aug_data(dataframe):\n",
        "  # find indexes for substitution\n",
        "  bminr_index = dataframe.index[dataframe['label'] == 'B-MINR'].tolist()\n",
        "  iminr_index = dataframe.index[dataframe['label'] == 'I-MINR'].tolist()\n",
        "  badlt_index = dataframe.index[dataframe['label'] == 'B-ADLT'].tolist()\n",
        "  iadlt_index = dataframe.index[dataframe['label'] == 'I-ADLT'].tolist()\n",
        "  bloc_index = dataframe.index[dataframe['label'] == 'B-LOC'].tolist()\n",
        "  iloc_index = dataframe.index[dataframe['label'] == 'I-LOC'].tolist()\n",
        "  borg_index = dataframe.index[dataframe['label'] == 'B-ORG'].tolist()\n",
        "\n",
        "  # substitute all minor names\n",
        "  # e.g. Victor becomes Patty, etc.  \n",
        "  for i in bminr_index:\n",
        "    replacement_name = Faker().first_name()\n",
        "    dataframe.at[i, 'token'] = replacement_name\n",
        "\n",
        "  # substitute all minor names \n",
        "  for i in iminr_index:\n",
        "    replacement_name = Faker().last_name()\n",
        "    dataframe.at[i, 'token'] = replacement_name\n",
        "\n",
        "  # substitute all adult names \n",
        "  for i in badlt_index:\n",
        "    replacement_name = Faker().first_name()\n",
        "    dataframe.at[i, 'token'] = replacement_name\n",
        "\n",
        "  # substitute all adult names \n",
        "  for i in iadlt_index:\n",
        "    replacement_name = Faker().last_name()\n",
        "    dataframe.at[i, 'token'] = replacement_name\n",
        "\n",
        "  # substitute all location names \n",
        "  # e.g. Nairobi becomes Johnville \n",
        "  for i in bloc_index:\n",
        "    replace_prefix = Faker().first_name()\n",
        "    replace_suffix = Faker().city_suffix()\n",
        "    replacement_loc = replace_prefix+replace_suffix\n",
        "    dataframe.at[i, 'token'] = replacement_loc\n",
        "\n",
        "  # substitute all location names \n",
        "  for i in iloc_index:\n",
        "    replacement_loc = Faker().country()\n",
        "    # cheap way to deal with multi-token cases\n",
        "    loc_list = replacement_loc.split(' ')\n",
        "    dataframe.at[i, 'token'] = loc_list[0]\n",
        "\n",
        "  # substitute all org begining\n",
        "  # e.g. General Motors becomes Dixon Motors \n",
        "  for i in borg_index:\n",
        "    replacement_org = Faker().last_name()\n",
        "    dataframe.at[i, 'token'] = replacement_org\n",
        "  \n",
        "  return(dataframe)"
      ],
      "metadata": {
        "id": "9XmG5axx9BSG"
      },
      "execution_count": null,
      "outputs": []
    },
    {
      "cell_type": "code",
      "source": [
        "# organize df copies \n",
        "train_df_list = [train_df, train_df2, train_df3, train_df4, train_df5]\n",
        "test_df_list = [test_df, test_df2, test_df3, test_df4, test_df5]\n",
        "\n",
        "# augment training copies \n",
        "# first copy doesn't need to be augmented\n",
        "for index, df in enumerate(train_df_list[1:]):\n",
        "  df = aug_data(df)\n",
        "  print(f'train df{index+2} augment complete')\n",
        "\n",
        "# augment testing copies \n",
        "for index, df in enumerate(test_df_list[1:]):\n",
        "  df = aug_data(df)\n",
        "  print(f'test df{index+2} augment complete')"
      ],
      "metadata": {
        "colab": {
          "base_uri": "https://localhost:8080/"
        },
        "id": "MR8bvFcTzsTW",
        "outputId": "435e40dc-734c-4c33-9eb0-cce58cd4df80"
      },
      "execution_count": null,
      "outputs": [
        {
          "output_type": "stream",
          "name": "stdout",
          "text": [
            "train df2 augment complete\n",
            "train df3 augment complete\n",
            "train df4 augment complete\n",
            "train df5 augment complete\n",
            "test df2 augment complete\n",
            "test df3 augment complete\n",
            "test df4 augment complete\n"
          ]
        },
        {
          "output_type": "stream",
          "name": "stderr",
          "text": [
            "Exception ignored in: <function ZipFile.__del__ at 0x7f0e0dda2e60>\n",
            "Traceback (most recent call last):\n",
            "  File \"/usr/lib/python3.7/zipfile.py\", line 1809, in __del__\n",
            "    self.close()\n",
            "  File \"/usr/lib/python3.7/zipfile.py\", line 1826, in close\n",
            "    self.fp.seek(self.start_dir)\n",
            "ValueError: seek of closed file\n"
          ]
        },
        {
          "output_type": "stream",
          "name": "stdout",
          "text": [
            "test df5 augment complete\n"
          ]
        }
      ]
    },
    {
      "cell_type": "code",
      "source": [
        "# Check known token for substitution\n",
        "print(train_df['token'][242])\n",
        "print(train_df2['token'][242])\n",
        "print(train_df3['token'][242])\n",
        "print(train_df4['token'][242])\n",
        "print(train_df5['token'][242])"
      ],
      "metadata": {
        "colab": {
          "base_uri": "https://localhost:8080/"
        },
        "id": "m5Dde7DSErXM",
        "outputId": "ce0a4e9b-4137-44a6-e973-0e80db12c5e9"
      },
      "execution_count": null,
      "outputs": [
        {
          "output_type": "stream",
          "name": "stdout",
          "text": [
            "school\n",
            "school\n",
            "school\n",
            "school\n",
            "school\n"
          ]
        }
      ]
    },
    {
      "cell_type": "code",
      "source": [
        "train_df"
      ],
      "metadata": {
        "colab": {
          "base_uri": "https://localhost:8080/"
        },
        "id": "G54NOqV8JM96",
        "outputId": "633e6c38-e8ae-46ce-f62d-a43867358416"
      },
      "execution_count": null,
      "outputs": [
        {
          "output_type": "execute_result",
          "data": {
            "text/plain": [
              "            sentence     token   label\n",
              "0        sentence 10  Stealing       O\n",
              "1        sentence 10        is       O\n",
              "2        sentence 10       the       O\n",
              "3        sentence 10    taking       O\n",
              "4        sentence 10        of       O\n",
              "...              ...       ...     ...\n",
              "98178  sentence 4216        me       O\n",
              "98179  sentence 4216     uncle       O\n",
              "98180  sentence 4216     steve  B-ADLT\n",
              "98181  sentence 4216      said       O\n",
              "98182  sentence 4216         .       O\n",
              "\n",
              "[98183 rows x 3 columns]"
            ],
            "text/html": [
              "\n",
              "  <div id=\"df-60a5d825-9f78-4a66-bd8d-c51111f02b68\">\n",
              "    <div class=\"colab-df-container\">\n",
              "      <div>\n",
              "<style scoped>\n",
              "    .dataframe tbody tr th:only-of-type {\n",
              "        vertical-align: middle;\n",
              "    }\n",
              "\n",
              "    .dataframe tbody tr th {\n",
              "        vertical-align: top;\n",
              "    }\n",
              "\n",
              "    .dataframe thead th {\n",
              "        text-align: right;\n",
              "    }\n",
              "</style>\n",
              "<table border=\"1\" class=\"dataframe\">\n",
              "  <thead>\n",
              "    <tr style=\"text-align: right;\">\n",
              "      <th></th>\n",
              "      <th>sentence</th>\n",
              "      <th>token</th>\n",
              "      <th>label</th>\n",
              "    </tr>\n",
              "  </thead>\n",
              "  <tbody>\n",
              "    <tr>\n",
              "      <th>0</th>\n",
              "      <td>sentence 10</td>\n",
              "      <td>Stealing</td>\n",
              "      <td>O</td>\n",
              "    </tr>\n",
              "    <tr>\n",
              "      <th>1</th>\n",
              "      <td>sentence 10</td>\n",
              "      <td>is</td>\n",
              "      <td>O</td>\n",
              "    </tr>\n",
              "    <tr>\n",
              "      <th>2</th>\n",
              "      <td>sentence 10</td>\n",
              "      <td>the</td>\n",
              "      <td>O</td>\n",
              "    </tr>\n",
              "    <tr>\n",
              "      <th>3</th>\n",
              "      <td>sentence 10</td>\n",
              "      <td>taking</td>\n",
              "      <td>O</td>\n",
              "    </tr>\n",
              "    <tr>\n",
              "      <th>4</th>\n",
              "      <td>sentence 10</td>\n",
              "      <td>of</td>\n",
              "      <td>O</td>\n",
              "    </tr>\n",
              "    <tr>\n",
              "      <th>...</th>\n",
              "      <td>...</td>\n",
              "      <td>...</td>\n",
              "      <td>...</td>\n",
              "    </tr>\n",
              "    <tr>\n",
              "      <th>98178</th>\n",
              "      <td>sentence 4216</td>\n",
              "      <td>me</td>\n",
              "      <td>O</td>\n",
              "    </tr>\n",
              "    <tr>\n",
              "      <th>98179</th>\n",
              "      <td>sentence 4216</td>\n",
              "      <td>uncle</td>\n",
              "      <td>O</td>\n",
              "    </tr>\n",
              "    <tr>\n",
              "      <th>98180</th>\n",
              "      <td>sentence 4216</td>\n",
              "      <td>steve</td>\n",
              "      <td>B-ADLT</td>\n",
              "    </tr>\n",
              "    <tr>\n",
              "      <th>98181</th>\n",
              "      <td>sentence 4216</td>\n",
              "      <td>said</td>\n",
              "      <td>O</td>\n",
              "    </tr>\n",
              "    <tr>\n",
              "      <th>98182</th>\n",
              "      <td>sentence 4216</td>\n",
              "      <td>.</td>\n",
              "      <td>O</td>\n",
              "    </tr>\n",
              "  </tbody>\n",
              "</table>\n",
              "<p>98183 rows × 3 columns</p>\n",
              "</div>\n",
              "      <button class=\"colab-df-convert\" onclick=\"convertToInteractive('df-60a5d825-9f78-4a66-bd8d-c51111f02b68')\"\n",
              "              title=\"Convert this dataframe to an interactive table.\"\n",
              "              style=\"display:none;\">\n",
              "        \n",
              "  <svg xmlns=\"http://www.w3.org/2000/svg\" height=\"24px\"viewBox=\"0 0 24 24\"\n",
              "       width=\"24px\">\n",
              "    <path d=\"M0 0h24v24H0V0z\" fill=\"none\"/>\n",
              "    <path d=\"M18.56 5.44l.94 2.06.94-2.06 2.06-.94-2.06-.94-.94-2.06-.94 2.06-2.06.94zm-11 1L8.5 8.5l.94-2.06 2.06-.94-2.06-.94L8.5 2.5l-.94 2.06-2.06.94zm10 10l.94 2.06.94-2.06 2.06-.94-2.06-.94-.94-2.06-.94 2.06-2.06.94z\"/><path d=\"M17.41 7.96l-1.37-1.37c-.4-.4-.92-.59-1.43-.59-.52 0-1.04.2-1.43.59L10.3 9.45l-7.72 7.72c-.78.78-.78 2.05 0 2.83L4 21.41c.39.39.9.59 1.41.59.51 0 1.02-.2 1.41-.59l7.78-7.78 2.81-2.81c.8-.78.8-2.07 0-2.86zM5.41 20L4 18.59l7.72-7.72 1.47 1.35L5.41 20z\"/>\n",
              "  </svg>\n",
              "      </button>\n",
              "      \n",
              "  <style>\n",
              "    .colab-df-container {\n",
              "      display:flex;\n",
              "      flex-wrap:wrap;\n",
              "      gap: 12px;\n",
              "    }\n",
              "\n",
              "    .colab-df-convert {\n",
              "      background-color: #E8F0FE;\n",
              "      border: none;\n",
              "      border-radius: 50%;\n",
              "      cursor: pointer;\n",
              "      display: none;\n",
              "      fill: #1967D2;\n",
              "      height: 32px;\n",
              "      padding: 0 0 0 0;\n",
              "      width: 32px;\n",
              "    }\n",
              "\n",
              "    .colab-df-convert:hover {\n",
              "      background-color: #E2EBFA;\n",
              "      box-shadow: 0px 1px 2px rgba(60, 64, 67, 0.3), 0px 1px 3px 1px rgba(60, 64, 67, 0.15);\n",
              "      fill: #174EA6;\n",
              "    }\n",
              "\n",
              "    [theme=dark] .colab-df-convert {\n",
              "      background-color: #3B4455;\n",
              "      fill: #D2E3FC;\n",
              "    }\n",
              "\n",
              "    [theme=dark] .colab-df-convert:hover {\n",
              "      background-color: #434B5C;\n",
              "      box-shadow: 0px 1px 3px 1px rgba(0, 0, 0, 0.15);\n",
              "      filter: drop-shadow(0px 1px 2px rgba(0, 0, 0, 0.3));\n",
              "      fill: #FFFFFF;\n",
              "    }\n",
              "  </style>\n",
              "\n",
              "      <script>\n",
              "        const buttonEl =\n",
              "          document.querySelector('#df-60a5d825-9f78-4a66-bd8d-c51111f02b68 button.colab-df-convert');\n",
              "        buttonEl.style.display =\n",
              "          google.colab.kernel.accessAllowed ? 'block' : 'none';\n",
              "\n",
              "        async function convertToInteractive(key) {\n",
              "          const element = document.querySelector('#df-60a5d825-9f78-4a66-bd8d-c51111f02b68');\n",
              "          const dataTable =\n",
              "            await google.colab.kernel.invokeFunction('convertToInteractive',\n",
              "                                                     [key], {});\n",
              "          if (!dataTable) return;\n",
              "\n",
              "          const docLinkHtml = 'Like what you see? Visit the ' +\n",
              "            '<a target=\"_blank\" href=https://colab.research.google.com/notebooks/data_table.ipynb>data table notebook</a>'\n",
              "            + ' to learn more about interactive tables.';\n",
              "          element.innerHTML = '';\n",
              "          dataTable['output_type'] = 'display_data';\n",
              "          await google.colab.output.renderOutput(dataTable, element);\n",
              "          const docLink = document.createElement('div');\n",
              "          docLink.innerHTML = docLinkHtml;\n",
              "          element.appendChild(docLink);\n",
              "        }\n",
              "      </script>\n",
              "    </div>\n",
              "  </div>\n",
              "  "
            ]
          },
          "metadata": {},
          "execution_count": 340
        }
      ]
    },
    {
      "cell_type": "markdown",
      "source": [
        "### Consolidate Data and Labels"
      ],
      "metadata": {
        "id": "T8RypYNSCZYy"
      }
    },
    {
      "cell_type": "code",
      "source": [
        "# remove ORG and OTHR labels; not being used\n",
        "for df in train_df_list + test_df_list:\n",
        "  df.replace(to_replace=['B-ORG', 'I-ORG', 'B-OTHR', 'I-OTHR', 'B-LOC', 'I-LOC'], value='O', inplace=True)"
      ],
      "metadata": {
        "id": "OU85_xTu3A-N",
        "colab": {
          "base_uri": "https://localhost:8080/"
        },
        "outputId": "58c23980-1592-45a4-f845-06c5ef6d5a42"
      },
      "execution_count": null,
      "outputs": [
        {
          "output_type": "stream",
          "name": "stderr",
          "text": [
            "/usr/local/lib/python3.7/dist-packages/pandas/core/frame.py:5244: SettingWithCopyWarning: \n",
            "A value is trying to be set on a copy of a slice from a DataFrame\n",
            "\n",
            "See the caveats in the documentation: https://pandas.pydata.org/pandas-docs/stable/user_guide/indexing.html#returning-a-view-versus-a-copy\n",
            "  method=method,\n"
          ]
        }
      ]
    },
    {
      "cell_type": "code",
      "source": [
        "# join tokens into sentence groups and label groups \n",
        "# populate full sentences by grouping on sentence number and joining words\n",
        "\n",
        "def seq_from_word(df):\n",
        "  df['sentence_list'] = df[['sentence','token','label']].groupby(['sentence'])['token'].transform(lambda x: ' '.join(x))\n",
        "\n",
        "  # let's also create a new column called \"word_labels\" which groups the tags by sentence \n",
        "  df['label_list'] = df[['sentence','token','label']].groupby(['sentence'])['label'].transform(lambda x: ','.join(x))\n",
        "\n",
        "  # populate sequences into new data frame\n",
        "  #df = df[['sentence_list', 'label_list']].copy()\n",
        "  df.drop(['sentence', 'token', 'label'], axis=1, inplace= True)\n",
        "\n",
        "  # drop all the duplicate sentences created by the join method \n",
        "  df.drop_duplicates(subset='sentence_list', inplace= True, ignore_index= True)\n",
        "\n",
        "\n",
        "# call the sequence function\n",
        "for index, item in enumerate(train_df_list + test_df_list):\n",
        "  item = seq_from_word(item)\n",
        "  print(f'{index+1} df sequencing complete')"
      ],
      "metadata": {
        "id": "KbDcvdkACTnP",
        "colab": {
          "base_uri": "https://localhost:8080/"
        },
        "outputId": "b9054f44-7241-40f9-dc87-08d5bc7715ef"
      },
      "execution_count": null,
      "outputs": [
        {
          "output_type": "stream",
          "name": "stderr",
          "text": [
            "/usr/local/lib/python3.7/dist-packages/ipykernel_launcher.py:5: SettingWithCopyWarning: \n",
            "A value is trying to be set on a copy of a slice from a DataFrame.\n",
            "Try using .loc[row_indexer,col_indexer] = value instead\n",
            "\n",
            "See the caveats in the documentation: https://pandas.pydata.org/pandas-docs/stable/user_guide/indexing.html#returning-a-view-versus-a-copy\n",
            "  \"\"\"\n",
            "/usr/local/lib/python3.7/dist-packages/ipykernel_launcher.py:8: SettingWithCopyWarning: \n",
            "A value is trying to be set on a copy of a slice from a DataFrame.\n",
            "Try using .loc[row_indexer,col_indexer] = value instead\n",
            "\n",
            "See the caveats in the documentation: https://pandas.pydata.org/pandas-docs/stable/user_guide/indexing.html#returning-a-view-versus-a-copy\n",
            "  \n",
            "/usr/local/lib/python3.7/dist-packages/pandas/core/frame.py:4913: SettingWithCopyWarning: \n",
            "A value is trying to be set on a copy of a slice from a DataFrame\n",
            "\n",
            "See the caveats in the documentation: https://pandas.pydata.org/pandas-docs/stable/user_guide/indexing.html#returning-a-view-versus-a-copy\n",
            "  errors=errors,\n",
            "/usr/local/lib/python3.7/dist-packages/pandas/util/_decorators.py:311: SettingWithCopyWarning: \n",
            "A value is trying to be set on a copy of a slice from a DataFrame\n",
            "\n",
            "See the caveats in the documentation: https://pandas.pydata.org/pandas-docs/stable/user_guide/indexing.html#returning-a-view-versus-a-copy\n",
            "  return func(*args, **kwargs)\n"
          ]
        },
        {
          "output_type": "stream",
          "name": "stdout",
          "text": [
            "1 df sequencing complete\n",
            "2 df sequencing complete\n",
            "3 df sequencing complete\n",
            "4 df sequencing complete\n",
            "5 df sequencing complete\n",
            "6 df sequencing complete\n",
            "7 df sequencing complete\n",
            "8 df sequencing complete\n",
            "9 df sequencing complete\n",
            "10 df sequencing complete\n"
          ]
        }
      ]
    },
    {
      "cell_type": "code",
      "source": [
        "# concat data partitions \n",
        "train_data = pd.concat(train_df_list, ignore_index=True)\n",
        "train_data.info()\n",
        "\n",
        "test_data = pd.concat(test_df_list, ignore_index=True)\n",
        "test_data.info()"
      ],
      "metadata": {
        "colab": {
          "base_uri": "https://localhost:8080/"
        },
        "id": "1KhOE2kEA5If",
        "outputId": "da679ca4-5050-4dde-815b-e6e92d85753b"
      },
      "execution_count": null,
      "outputs": [
        {
          "output_type": "stream",
          "name": "stdout",
          "text": [
            "<class 'pandas.core.frame.DataFrame'>\n",
            "RangeIndex: 2027 entries, 0 to 2026\n",
            "Data columns (total 2 columns):\n",
            " #   Column         Non-Null Count  Dtype \n",
            "---  ------         --------------  ----- \n",
            " 0   sentence_list  2027 non-null   object\n",
            " 1   label_list     2027 non-null   object\n",
            "dtypes: object(2)\n",
            "memory usage: 31.8+ KB\n",
            "<class 'pandas.core.frame.DataFrame'>\n",
            "RangeIndex: 507 entries, 0 to 506\n",
            "Data columns (total 2 columns):\n",
            " #   Column         Non-Null Count  Dtype \n",
            "---  ------         --------------  ----- \n",
            " 0   sentence_list  507 non-null    object\n",
            " 1   label_list     507 non-null    object\n",
            "dtypes: object(2)\n",
            "memory usage: 8.0+ KB\n"
          ]
        }
      ]
    },
    {
      "cell_type": "code",
      "source": [
        "# write training data for later use\n",
        "train_data.to_excel('/content/drive/MyDrive/Grad School Projects /training_data_v3.xlsx', index=False)"
      ],
      "metadata": {
        "id": "EdXOaRqCOACu"
      },
      "execution_count": null,
      "outputs": []
    },
    {
      "cell_type": "code",
      "source": [
        "# write testing data for later use\n",
        "test_data.to_excel('/content/drive/MyDrive/Grad School Projects /testing_data_v3.xlsx', index=False)"
      ],
      "metadata": {
        "id": "OjUzwpQZ4IOn"
      },
      "execution_count": null,
      "outputs": []
    },
    {
      "cell_type": "markdown",
      "source": [
        "### Analysis"
      ],
      "metadata": {
        "id": "sufXEn1fNoXw"
      }
    },
    {
      "cell_type": "code",
      "source": [
        "train_data.head()"
      ],
      "metadata": {
        "colab": {
          "base_uri": "https://localhost:8080/",
          "height": 531
        },
        "id": "trvp6ibWEiXp",
        "outputId": "308b5c92-8d29-4d2b-a624-e2c171254734"
      },
      "execution_count": null,
      "outputs": [
        {
          "output_type": "execute_result",
          "data": {
            "text/plain": [
              "                                       sentence_list  \\\n",
              "0  Stealing is the taking of someone 's property ...   \n",
              "1  Kanyeki was a student at Olkesuke primary scho...   \n",
              "2  There was a boy living up country by a name ca...   \n",
              "3  I am Petronila Wilunda . I am currently on a b...   \n",
              "4  My name is Jane Wilunda , from Kakamega North ...   \n",
              "\n",
              "                                          label_list  \n",
              "0  O,O,O,O,O,O,O,O,O,O,O,O,O,O,O,O,O,O,O,O,O,O,O,...  \n",
              "1  B-MINR,O,O,O,O,O,O,O,O,O,O,O,O,O,O,O,O,O,O,O,O...  \n",
              "2  O,O,O,O,O,O,O,O,O,O,O,B-MINR,I-MINR,O,O,O,O,O,...  \n",
              "3  O,O,B-MINR,I-MINR,O,O,O,O,O,O,O,O,O,O,O,O,O,O,...  \n",
              "4  O,O,O,B-MINR,I-MINR,O,O,O,O,O,O,O,O,O,O,O,O,O,...  "
            ],
            "text/html": [
              "\n",
              "  <div id=\"df-63ec2a34-fc2f-459b-bde0-4813994412ad\">\n",
              "    <div class=\"colab-df-container\">\n",
              "      <div>\n",
              "<style scoped>\n",
              "    .dataframe tbody tr th:only-of-type {\n",
              "        vertical-align: middle;\n",
              "    }\n",
              "\n",
              "    .dataframe tbody tr th {\n",
              "        vertical-align: top;\n",
              "    }\n",
              "\n",
              "    .dataframe thead th {\n",
              "        text-align: right;\n",
              "    }\n",
              "</style>\n",
              "<table border=\"1\" class=\"dataframe\">\n",
              "  <thead>\n",
              "    <tr style=\"text-align: right;\">\n",
              "      <th></th>\n",
              "      <th>sentence_list</th>\n",
              "      <th>label_list</th>\n",
              "    </tr>\n",
              "  </thead>\n",
              "  <tbody>\n",
              "    <tr>\n",
              "      <th>0</th>\n",
              "      <td>Stealing is the taking of someone 's property ...</td>\n",
              "      <td>O,O,O,O,O,O,O,O,O,O,O,O,O,O,O,O,O,O,O,O,O,O,O,...</td>\n",
              "    </tr>\n",
              "    <tr>\n",
              "      <th>1</th>\n",
              "      <td>Kanyeki was a student at Olkesuke primary scho...</td>\n",
              "      <td>B-MINR,O,O,O,O,O,O,O,O,O,O,O,O,O,O,O,O,O,O,O,O...</td>\n",
              "    </tr>\n",
              "    <tr>\n",
              "      <th>2</th>\n",
              "      <td>There was a boy living up country by a name ca...</td>\n",
              "      <td>O,O,O,O,O,O,O,O,O,O,O,B-MINR,I-MINR,O,O,O,O,O,...</td>\n",
              "    </tr>\n",
              "    <tr>\n",
              "      <th>3</th>\n",
              "      <td>I am Petronila Wilunda . I am currently on a b...</td>\n",
              "      <td>O,O,B-MINR,I-MINR,O,O,O,O,O,O,O,O,O,O,O,O,O,O,...</td>\n",
              "    </tr>\n",
              "    <tr>\n",
              "      <th>4</th>\n",
              "      <td>My name is Jane Wilunda , from Kakamega North ...</td>\n",
              "      <td>O,O,O,B-MINR,I-MINR,O,O,O,O,O,O,O,O,O,O,O,O,O,...</td>\n",
              "    </tr>\n",
              "  </tbody>\n",
              "</table>\n",
              "</div>\n",
              "      <button class=\"colab-df-convert\" onclick=\"convertToInteractive('df-63ec2a34-fc2f-459b-bde0-4813994412ad')\"\n",
              "              title=\"Convert this dataframe to an interactive table.\"\n",
              "              style=\"display:none;\">\n",
              "        \n",
              "  <svg xmlns=\"http://www.w3.org/2000/svg\" height=\"24px\"viewBox=\"0 0 24 24\"\n",
              "       width=\"24px\">\n",
              "    <path d=\"M0 0h24v24H0V0z\" fill=\"none\"/>\n",
              "    <path d=\"M18.56 5.44l.94 2.06.94-2.06 2.06-.94-2.06-.94-.94-2.06-.94 2.06-2.06.94zm-11 1L8.5 8.5l.94-2.06 2.06-.94-2.06-.94L8.5 2.5l-.94 2.06-2.06.94zm10 10l.94 2.06.94-2.06 2.06-.94-2.06-.94-.94-2.06-.94 2.06-2.06.94z\"/><path d=\"M17.41 7.96l-1.37-1.37c-.4-.4-.92-.59-1.43-.59-.52 0-1.04.2-1.43.59L10.3 9.45l-7.72 7.72c-.78.78-.78 2.05 0 2.83L4 21.41c.39.39.9.59 1.41.59.51 0 1.02-.2 1.41-.59l7.78-7.78 2.81-2.81c.8-.78.8-2.07 0-2.86zM5.41 20L4 18.59l7.72-7.72 1.47 1.35L5.41 20z\"/>\n",
              "  </svg>\n",
              "      </button>\n",
              "      \n",
              "  <style>\n",
              "    .colab-df-container {\n",
              "      display:flex;\n",
              "      flex-wrap:wrap;\n",
              "      gap: 12px;\n",
              "    }\n",
              "\n",
              "    .colab-df-convert {\n",
              "      background-color: #E8F0FE;\n",
              "      border: none;\n",
              "      border-radius: 50%;\n",
              "      cursor: pointer;\n",
              "      display: none;\n",
              "      fill: #1967D2;\n",
              "      height: 32px;\n",
              "      padding: 0 0 0 0;\n",
              "      width: 32px;\n",
              "    }\n",
              "\n",
              "    .colab-df-convert:hover {\n",
              "      background-color: #E2EBFA;\n",
              "      box-shadow: 0px 1px 2px rgba(60, 64, 67, 0.3), 0px 1px 3px 1px rgba(60, 64, 67, 0.15);\n",
              "      fill: #174EA6;\n",
              "    }\n",
              "\n",
              "    [theme=dark] .colab-df-convert {\n",
              "      background-color: #3B4455;\n",
              "      fill: #D2E3FC;\n",
              "    }\n",
              "\n",
              "    [theme=dark] .colab-df-convert:hover {\n",
              "      background-color: #434B5C;\n",
              "      box-shadow: 0px 1px 3px 1px rgba(0, 0, 0, 0.15);\n",
              "      filter: drop-shadow(0px 1px 2px rgba(0, 0, 0, 0.3));\n",
              "      fill: #FFFFFF;\n",
              "    }\n",
              "  </style>\n",
              "\n",
              "      <script>\n",
              "        const buttonEl =\n",
              "          document.querySelector('#df-63ec2a34-fc2f-459b-bde0-4813994412ad button.colab-df-convert');\n",
              "        buttonEl.style.display =\n",
              "          google.colab.kernel.accessAllowed ? 'block' : 'none';\n",
              "\n",
              "        async function convertToInteractive(key) {\n",
              "          const element = document.querySelector('#df-63ec2a34-fc2f-459b-bde0-4813994412ad');\n",
              "          const dataTable =\n",
              "            await google.colab.kernel.invokeFunction('convertToInteractive',\n",
              "                                                     [key], {});\n",
              "          if (!dataTable) return;\n",
              "\n",
              "          const docLinkHtml = 'Like what you see? Visit the ' +\n",
              "            '<a target=\"_blank\" href=https://colab.research.google.com/notebooks/data_table.ipynb>data table notebook</a>'\n",
              "            + ' to learn more about interactive tables.';\n",
              "          element.innerHTML = '';\n",
              "          dataTable['output_type'] = 'display_data';\n",
              "          await google.colab.output.renderOutput(dataTable, element);\n",
              "          const docLink = document.createElement('div');\n",
              "          docLink.innerHTML = docLinkHtml;\n",
              "          element.appendChild(docLink);\n",
              "        }\n",
              "      </script>\n",
              "    </div>\n",
              "  </div>\n",
              "  "
            ]
          },
          "metadata": {},
          "execution_count": 346
        }
      ]
    },
    {
      "cell_type": "code",
      "source": [
        "test_data.head()"
      ],
      "metadata": {
        "colab": {
          "base_uri": "https://localhost:8080/"
        },
        "id": "XwggxZSF1yHy",
        "outputId": "65f956a4-2d62-401b-b65a-c7377d4fcc85"
      },
      "execution_count": null,
      "outputs": [
        {
          "output_type": "execute_result",
          "data": {
            "text/plain": [
              "                                       sentence_list  \\\n",
              "0  In my village there lived a teenager who lived...   \n",
              "1  This Kiswahili saying watu , watu wengi lakini...   \n",
              "2  Njuguna , a corrupted young man with infinite ...   \n",
              "3  My name is Sabina Khavai I did my K. C. P. E. ...   \n",
              "4  My name is Jessica Nyongesa from kakamega nort...   \n",
              "\n",
              "                                          label_list  \n",
              "0  O,O,O,O,O,O,O,O,O,O,O,O,O,O,O,O,O,O,O,O,O,O,O,...  \n",
              "1  O,O,O,O,O,O,O,O,O,O,O,O,O,O,O,O,O,B-MINR,O,O,O...  \n",
              "2  B-MINR,O,O,O,O,O,O,O,O,O,O,O,O,O,O,O,O,O,O,O,O...  \n",
              "3  O,O,O,B-MINR,I-MINR,O,O,O,O,O,O,O,O,O,O,O,O,O,...  \n",
              "4  O,O,O,B-MINR,I-MINR,O,O,O,O,O,O,O,O,B-MINR,I-M...  "
            ],
            "text/html": [
              "\n",
              "  <div id=\"df-9a21802d-8b78-4a20-a9b3-0f3a75548277\">\n",
              "    <div class=\"colab-df-container\">\n",
              "      <div>\n",
              "<style scoped>\n",
              "    .dataframe tbody tr th:only-of-type {\n",
              "        vertical-align: middle;\n",
              "    }\n",
              "\n",
              "    .dataframe tbody tr th {\n",
              "        vertical-align: top;\n",
              "    }\n",
              "\n",
              "    .dataframe thead th {\n",
              "        text-align: right;\n",
              "    }\n",
              "</style>\n",
              "<table border=\"1\" class=\"dataframe\">\n",
              "  <thead>\n",
              "    <tr style=\"text-align: right;\">\n",
              "      <th></th>\n",
              "      <th>sentence_list</th>\n",
              "      <th>label_list</th>\n",
              "    </tr>\n",
              "  </thead>\n",
              "  <tbody>\n",
              "    <tr>\n",
              "      <th>0</th>\n",
              "      <td>In my village there lived a teenager who lived...</td>\n",
              "      <td>O,O,O,O,O,O,O,O,O,O,O,O,O,O,O,O,O,O,O,O,O,O,O,...</td>\n",
              "    </tr>\n",
              "    <tr>\n",
              "      <th>1</th>\n",
              "      <td>This Kiswahili saying watu , watu wengi lakini...</td>\n",
              "      <td>O,O,O,O,O,O,O,O,O,O,O,O,O,O,O,O,O,B-MINR,O,O,O...</td>\n",
              "    </tr>\n",
              "    <tr>\n",
              "      <th>2</th>\n",
              "      <td>Njuguna , a corrupted young man with infinite ...</td>\n",
              "      <td>B-MINR,O,O,O,O,O,O,O,O,O,O,O,O,O,O,O,O,O,O,O,O...</td>\n",
              "    </tr>\n",
              "    <tr>\n",
              "      <th>3</th>\n",
              "      <td>My name is Sabina Khavai I did my K. C. P. E. ...</td>\n",
              "      <td>O,O,O,B-MINR,I-MINR,O,O,O,O,O,O,O,O,O,O,O,O,O,...</td>\n",
              "    </tr>\n",
              "    <tr>\n",
              "      <th>4</th>\n",
              "      <td>My name is Jessica Nyongesa from kakamega nort...</td>\n",
              "      <td>O,O,O,B-MINR,I-MINR,O,O,O,O,O,O,O,O,B-MINR,I-M...</td>\n",
              "    </tr>\n",
              "  </tbody>\n",
              "</table>\n",
              "</div>\n",
              "      <button class=\"colab-df-convert\" onclick=\"convertToInteractive('df-9a21802d-8b78-4a20-a9b3-0f3a75548277')\"\n",
              "              title=\"Convert this dataframe to an interactive table.\"\n",
              "              style=\"display:none;\">\n",
              "        \n",
              "  <svg xmlns=\"http://www.w3.org/2000/svg\" height=\"24px\"viewBox=\"0 0 24 24\"\n",
              "       width=\"24px\">\n",
              "    <path d=\"M0 0h24v24H0V0z\" fill=\"none\"/>\n",
              "    <path d=\"M18.56 5.44l.94 2.06.94-2.06 2.06-.94-2.06-.94-.94-2.06-.94 2.06-2.06.94zm-11 1L8.5 8.5l.94-2.06 2.06-.94-2.06-.94L8.5 2.5l-.94 2.06-2.06.94zm10 10l.94 2.06.94-2.06 2.06-.94-2.06-.94-.94-2.06-.94 2.06-2.06.94z\"/><path d=\"M17.41 7.96l-1.37-1.37c-.4-.4-.92-.59-1.43-.59-.52 0-1.04.2-1.43.59L10.3 9.45l-7.72 7.72c-.78.78-.78 2.05 0 2.83L4 21.41c.39.39.9.59 1.41.59.51 0 1.02-.2 1.41-.59l7.78-7.78 2.81-2.81c.8-.78.8-2.07 0-2.86zM5.41 20L4 18.59l7.72-7.72 1.47 1.35L5.41 20z\"/>\n",
              "  </svg>\n",
              "      </button>\n",
              "      \n",
              "  <style>\n",
              "    .colab-df-container {\n",
              "      display:flex;\n",
              "      flex-wrap:wrap;\n",
              "      gap: 12px;\n",
              "    }\n",
              "\n",
              "    .colab-df-convert {\n",
              "      background-color: #E8F0FE;\n",
              "      border: none;\n",
              "      border-radius: 50%;\n",
              "      cursor: pointer;\n",
              "      display: none;\n",
              "      fill: #1967D2;\n",
              "      height: 32px;\n",
              "      padding: 0 0 0 0;\n",
              "      width: 32px;\n",
              "    }\n",
              "\n",
              "    .colab-df-convert:hover {\n",
              "      background-color: #E2EBFA;\n",
              "      box-shadow: 0px 1px 2px rgba(60, 64, 67, 0.3), 0px 1px 3px 1px rgba(60, 64, 67, 0.15);\n",
              "      fill: #174EA6;\n",
              "    }\n",
              "\n",
              "    [theme=dark] .colab-df-convert {\n",
              "      background-color: #3B4455;\n",
              "      fill: #D2E3FC;\n",
              "    }\n",
              "\n",
              "    [theme=dark] .colab-df-convert:hover {\n",
              "      background-color: #434B5C;\n",
              "      box-shadow: 0px 1px 3px 1px rgba(0, 0, 0, 0.15);\n",
              "      filter: drop-shadow(0px 1px 2px rgba(0, 0, 0, 0.3));\n",
              "      fill: #FFFFFF;\n",
              "    }\n",
              "  </style>\n",
              "\n",
              "      <script>\n",
              "        const buttonEl =\n",
              "          document.querySelector('#df-9a21802d-8b78-4a20-a9b3-0f3a75548277 button.colab-df-convert');\n",
              "        buttonEl.style.display =\n",
              "          google.colab.kernel.accessAllowed ? 'block' : 'none';\n",
              "\n",
              "        async function convertToInteractive(key) {\n",
              "          const element = document.querySelector('#df-9a21802d-8b78-4a20-a9b3-0f3a75548277');\n",
              "          const dataTable =\n",
              "            await google.colab.kernel.invokeFunction('convertToInteractive',\n",
              "                                                     [key], {});\n",
              "          if (!dataTable) return;\n",
              "\n",
              "          const docLinkHtml = 'Like what you see? Visit the ' +\n",
              "            '<a target=\"_blank\" href=https://colab.research.google.com/notebooks/data_table.ipynb>data table notebook</a>'\n",
              "            + ' to learn more about interactive tables.';\n",
              "          element.innerHTML = '';\n",
              "          dataTable['output_type'] = 'display_data';\n",
              "          await google.colab.output.renderOutput(dataTable, element);\n",
              "          const docLink = document.createElement('div');\n",
              "          docLink.innerHTML = docLinkHtml;\n",
              "          element.appendChild(docLink);\n",
              "        }\n",
              "      </script>\n",
              "    </div>\n",
              "  </div>\n",
              "  "
            ]
          },
          "metadata": {},
          "execution_count": 347
        }
      ]
    },
    {
      "cell_type": "code",
      "source": [
        "# look for overlap between train and test sets\n",
        "for row in range(len(train_data)):\n",
        "    dup_check = (train_data.iloc[row, ].values == test_data.values).all()\n",
        "np.count_nonzero(dup_check)"
      ],
      "metadata": {
        "colab": {
          "base_uri": "https://localhost:8080/"
        },
        "id": "bvdvT8xTpOeG",
        "outputId": "a3211e39-e331-4198-c81e-baa3d7d86489"
      },
      "execution_count": null,
      "outputs": [
        {
          "output_type": "execute_result",
          "data": {
            "text/plain": [
              "0"
            ]
          },
          "metadata": {},
          "execution_count": 348
        }
      ]
    },
    {
      "cell_type": "code",
      "source": [
        "# convert to list\n",
        "train_data['label_list'] = train_data['label_list'].apply(lambda x: list(x.split(',')))\n",
        "\n",
        "# perform count of entity instances\n",
        "entity_counts = pd.Series([x for item in train_data['label_list'] for x in item]).value_counts()\n",
        "print(entity_counts)\n",
        "\n",
        "# plot entity counts\n",
        "entity_count_df = entity_counts.to_frame()\n",
        "entity_count_df.drop(labels='O', axis=0, inplace=True)\n",
        "entity_count_df.plot(kind='bar')"
      ],
      "metadata": {
        "colab": {
          "base_uri": "https://localhost:8080/",
          "height": 413
        },
        "id": "9Z3gaSUlNdwB",
        "outputId": "ce97dcb5-23d8-4830-f428-19f87ed586db"
      },
      "execution_count": null,
      "outputs": [
        {
          "output_type": "stream",
          "name": "stdout",
          "text": [
            "O         475825\n",
            "B-MINR      5951\n",
            "B-ADLT      4871\n",
            "I-ADLT      1537\n",
            "I-MINR       831\n",
            "dtype: int64\n"
          ]
        },
        {
          "output_type": "execute_result",
          "data": {
            "text/plain": [
              "<matplotlib.axes._subplots.AxesSubplot at 0x7f0dc478f290>"
            ]
          },
          "metadata": {},
          "execution_count": 349
        },
        {
          "output_type": "display_data",
          "data": {
            "text/plain": [
              "<Figure size 432x288 with 1 Axes>"
            ],
            "image/png": "[encoded data removed]"
          },
          "metadata": {
            "needs_background": "light"
          }
        }
      ]
    },
    {
      "cell_type": "markdown",
      "source": [
        "8735 MINR vs 7420 ADLT totals; slight imbalance. Not as imbalanced as version 1 entities which got +80% F1 on adults and +70% in minors. "
      ],
      "metadata": {
        "id": "XmGM27gtSjfX"
      }
    },
    {
      "cell_type": "code",
      "source": [
        "# convert to list\n",
        "test_data['label_list'] = test_data['label_list'].apply(lambda x: list(x.split(',')))\n",
        "\n",
        "# perform count of entity instances\n",
        "entity_counts = pd.Series([x for item in test_data['label_list'] for x in item]).value_counts()\n",
        "print(entity_counts)\n",
        "\n",
        "# plot entity counts\n",
        "entity_count_df = entity_counts.to_frame()\n",
        "entity_count_df.drop(labels='O', axis=0, inplace=True)\n",
        "entity_count_df.plot(kind='bar')"
      ],
      "metadata": {
        "colab": {
          "base_uri": "https://localhost:8080/",
          "height": 176
        },
        "id": "Ki6Z06kP18Ca",
        "outputId": "d2a5f4da-c8f0-4385-af77-276b47c5075f"
      },
      "execution_count": null,
      "outputs": [
        {
          "output_type": "stream",
          "name": "stdout",
          "text": [
            "O         105302\n",
            "B-MINR      1733\n",
            "B-ADLT       739\n",
            "I-ADLT       290\n",
            "I-MINR       255\n",
            "dtype: int64\n"
          ]
        },
        {
          "output_type": "execute_result",
          "data": {
            "text/plain": [
              "<matplotlib.axes._subplots.AxesSubplot at 0x7f0dc5489d10>"
            ]
          },
          "metadata": {},
          "execution_count": 350
        },
        {
          "output_type": "display_data",
          "data": {
            "text/plain": [
              "<Figure size 432x288 with 1 Axes>"
            ],
            "image/png": "[encoded data removed]"
          },
          "metadata": {
            "needs_background": "light"
          }
        }
      ]
    }
  ]
}